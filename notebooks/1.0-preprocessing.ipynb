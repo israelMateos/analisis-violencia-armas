{
  "cells": [
    {
      "cell_type": "markdown",
      "metadata": {},
      "source": [
        "# Incidentes con armas"
      ]
    },
    {
      "cell_type": "markdown",
      "metadata": {},
      "source": [
        "## Análisis descriptivo"
      ]
    },
    {
      "cell_type": "code",
      "execution_count": null,
      "metadata": {},
      "outputs": [],
      "source": [
        "# 0. load data in DataFrames\n",
        "import pandas as pd\n",
        "gun_violence_df = pd.read_csv('../data/raw/gun-violence-data_01-2013_03-2018.csv')"
      ]
    },
    {
      "cell_type": "markdown",
      "metadata": {},
      "source": [
        "Pequeña muestra de los datos"
      ]
    },
    {
      "cell_type": "code",
      "execution_count": null,
      "metadata": {},
      "outputs": [],
      "source": [
        "gun_violence_df.head()"
      ]
    },
    {
      "cell_type": "markdown",
      "metadata": {},
      "source": [
        "Forma de los datos"
      ]
    },
    {
      "cell_type": "code",
      "execution_count": null,
      "metadata": {},
      "outputs": [],
      "source": [
        "gun_violence_df.shape"
      ]
    },
    {
      "cell_type": "markdown",
      "metadata": {},
      "source": [
        "Variables y sus tipos"
      ]
    },
    {
      "cell_type": "code",
      "execution_count": null,
      "metadata": {},
      "outputs": [],
      "source": [
        "gun_violence_df.dtypes"
      ]
    },
    {
      "cell_type": "markdown",
      "metadata": {},
      "source": [
        "Resumen de información de las variables"
      ]
    },
    {
      "cell_type": "code",
      "execution_count": null,
      "metadata": {},
      "outputs": [],
      "source": [
        "gun_violence_df.info()"
      ]
    },
    {
      "cell_type": "markdown",
      "metadata": {},
      "source": [
        "Descripción estadística de los datos"
      ]
    },
    {
      "cell_type": "code",
      "execution_count": null,
      "metadata": {},
      "outputs": [],
      "source": [
        "gun_violence_df.describe()"
      ]
    },
    {
      "cell_type": "markdown",
      "metadata": {},
      "source": [
        "Finalmente, hacemos uso de la herramienta Pandas Profiling para dar un resumen de nuestro dataset."
      ]
    },
    {
      "cell_type": "code",
      "execution_count": null,
      "metadata": {},
      "outputs": [],
      "source": [
        "from ydata_profiling import ProfileReport\n",
        "profile = ProfileReport(gun_violence_df, title='Gun Violence Incidents', html={'style':{'full_width':True}})\n",
        "profile.to_notebook_iframe()"
      ]
    },
    {
      "cell_type": "code",
      "execution_count": null,
      "metadata": {},
      "outputs": [],
      "source": [
        "import os\n",
        "os.makedirs('../reports/descriptive_analysis', exist_ok=True)\n",
        "profile.to_file(output_file='../reports/descriptive_analysis/gun_violence_incidents_precleaning.html')"
      ]
    },
    {
      "cell_type": "markdown",
      "metadata": {},
      "source": [
        "## Limpieza"
      ]
    },
    {
      "cell_type": "markdown",
      "metadata": {},
      "source": [
        "### Tratamiento de los valores perdidos"
      ]
    },
    {
      "cell_type": "markdown",
      "metadata": {},
      "source": [
        "Primero, veremos en qué columnas existen valores nulos y cuántos de ellos hay."
      ]
    },
    {
      "cell_type": "code",
      "execution_count": null,
      "metadata": {},
      "outputs": [],
      "source": [
        "gun_violence_df.isnull().sum()"
      ]
    },
    {
      "cell_type": "markdown",
      "metadata": {},
      "source": [
        "Por tanto, las columnas con valores nulos son las siguientes:"
      ]
    },
    {
      "cell_type": "code",
      "execution_count": null,
      "metadata": {},
      "outputs": [],
      "source": [
        "null_columns = gun_violence_df.columns[gun_violence_df.isnull().any()]\n",
        "null_columns"
      ]
    },
    {
      "cell_type": "markdown",
      "metadata": {},
      "source": [
        "Y sus tipos de datos son:"
      ]
    },
    {
      "cell_type": "code",
      "execution_count": null,
      "metadata": {},
      "outputs": [],
      "source": [
        "gun_violence_df[null_columns].dtypes"
      ]
    },
    {
      "cell_type": "markdown",
      "metadata": {},
      "source": [
        "Ahora, generaremos la proporción de valores nulos en cada columna para una visión a más alto nivel."
      ]
    },
    {
      "cell_type": "code",
      "execution_count": null,
      "metadata": {},
      "outputs": [],
      "source": [
        "null_proportions_df = pd.DataFrame(gun_violence_df[null_columns].isnull().sum() / gun_violence_df.shape[0], columns=['proportion']).sort_values(by='proportion', ascending=False)\n",
        "null_proportions_df"
      ]
    },
    {
      "cell_type": "markdown",
      "metadata": {},
      "source": [
        "Una estrategia típica a seguir para la imputación de valores nulos es usar la media de la variable en caso de ser numérica, y la moda en caso de ser categórica."
      ]
    },
    {
      "cell_type": "markdown",
      "metadata": {},
      "source": [
        "Las variables `participant_relationship`, `location_description` y `participant_name` poseen más de un 50% de nulos. Por tanto, no tiene sentido la imputación de la moda (por ser categóricas), ya que esta no representa a la población, pues hay más valores nulos que completos. Por tanto, introduciremos un valor `Unknown`."
      ]
    },
    {
      "cell_type": "code",
      "execution_count": null,
      "metadata": {},
      "outputs": [],
      "source": [
        "# Impute value 'Unknown' for null values in columns 'participant_relationship', 'location_description' and 'participant_name'\n",
        "gun_violence_df['participant_relationship'].fillna('Unknown', inplace=True)\n",
        "gun_violence_df['location_description'].fillna('Unknown', inplace=True)\n",
        "gun_violence_df['participant_name'].fillna('Unknown', inplace=True)"
      ]
    },
    {
      "cell_type": "markdown",
      "metadata": {},
      "source": [
        "Las variables `gun_stolen`, `gun_type` y `n_guns_involved` están directamente relacionadas. Según el número de armas involucradas, el tipo y si han sido robadas o no para cada una se indican en las otras dos columnas. Por ello, cuando el número de armas involucradas es nulo, las otras dos también. Por tanto, debemos seguir la misma estrategia para las tres columnas.\n",
        "\n",
        "Sin embargo, `n_guns_involved` es una variable numérica, mientras que `gun_stolen` y `gun_type` son categóricas. Por ello, tampoco tiene sentido utilizar o bien la media o bien la moda para todas.\n",
        "\n",
        "Finalmente, hemos valorado dos opciones:\n",
        "\n",
        "- Introducir un valor `Unknown`.\n",
        "- Utilizar una estrategia particular para el dominio.\n",
        "\n",
        "Hemos decidido crear una estrategia propia para nuestro problema.\n",
        "\n",
        "`gun_stolen` y `gun_type` están formateados de la siguiente manera:\n",
        "\n",
        "    \"0::<valor>||1::<valor>||...||<nº de armas involucradas - 1>::<valor>\"\n",
        "\n",
        "Además, en algunos registros existe una errata en la que se usa ':' en lugar de '::', o '|' en lugar de '||'.\n",
        "\n",
        "Por tanto, nuestra estrategia consiste en:\n",
        "\n",
        "1. Extraer estos valores correspondientes a cada arma involucrada del conjunto de datos.\n",
        "2. Reemplazar los valores nulos de `n_guns_involved` por su media redondeada a un entero.\n",
        "3. Reemplazar los valores nulos de `gun_stolen` y `gun_type` por una cadena en el formato establecido compuesta por _n_ armas, siendo _n_ la media redondeada que se ha imputado en los valores nulos de `n_guns_involved`, y cada una de ellas con el valor más frecuente para las armas involucradas."
      ]
    },
    {
      "cell_type": "code",
      "execution_count": null,
      "metadata": {},
      "outputs": [],
      "source": [
        "from statistics import mode\n",
        "\n",
        "# Function to extract individual values from the given format\n",
        "def extract_values(column):\n",
        "    values = []\n",
        "    for row in column:\n",
        "        if pd.isnull(row):\n",
        "            continue\n",
        "        # Remove '||' and '|' separators\n",
        "        no_bars = list(filter(None, row.split('|')))\n",
        "        for item in no_bars:\n",
        "            if ':' in item:\n",
        "                # Remove '::' and ':' separators\n",
        "                no_separator = list(filter(None, item.split(':')))\n",
        "                values.append(no_separator[1])\n",
        "            # incident_characteristics column has a different format\n",
        "            else:\n",
        "                values.append(item)\n",
        "        \n",
        "    return values\n",
        "\n",
        "# Extract modes for gun_stolen and gun_type columns\n",
        "gun_stolen_mode = mode(extract_values(gun_violence_df['gun_stolen']))\n",
        "gun_type_mode = mode(extract_values(gun_violence_df['gun_type']))\n",
        "\n",
        "print(\"Moda de 'gun_stolen':\", gun_stolen_mode)\n",
        "print(\"Moda de 'gun_type':\", gun_type_mode)"
      ]
    },
    {
      "cell_type": "code",
      "execution_count": null,
      "metadata": {},
      "outputs": [],
      "source": [
        "n_guns_involved_mean = gun_violence_df['n_guns_involved'].mean()\n",
        "n_guns_involved_mean = round(n_guns_involved_mean, 0)\n",
        "print(\"Media redondeada de 'n_guns_involved':\", n_guns_involved_mean)"
      ]
    },
    {
      "cell_type": "markdown",
      "metadata": {},
      "source": [
        "Ahora, aplicaremos la estrategia mencionada."
      ]
    },
    {
      "cell_type": "code",
      "execution_count": null,
      "metadata": {},
      "outputs": [],
      "source": [
        "def format_values(values):\n",
        "    formatted_values = \"\"\n",
        "    n_values = len(values)\n",
        "    for i in range(n_values):\n",
        "        if i == n_values - 1:\n",
        "            formatted_values += str(i) + \"::\" + str(values[i])\n",
        "        else:\n",
        "            formatted_values += str(i) + \"::\" + str(values[i]) + \"||\"\n",
        "    return formatted_values\n",
        "\n",
        "# Impute values for null values in columns 'gun_stolen', 'gun_type' and 'n_guns_involved'\n",
        "gun_violence_df['n_guns_involved'].fillna(n_guns_involved_mean, inplace=True)\n",
        "gun_violence_df['gun_stolen'].fillna(format_values([gun_stolen_mode]), inplace=True)\n",
        "gun_violence_df['gun_type'].fillna(format_values([gun_type_mode]), inplace=True)"
      ]
    },
    {
      "cell_type": "markdown",
      "metadata": {},
      "source": [
        "Observando el resto de columnas con valores nulos, vemos que hay varias relacionadas con los participantes de los incidentes. Todas estas siguen el mismo formato que se expuso anteriormente. Por ello, hemos decidido volver a hacer uso de la extracción de valores de estas cadenas. Posteriormente, insertaremos la moda o la media redondeada (si son valores categóricos o numéricos, respectivamente) con el mismo formato."
      ]
    },
    {
      "cell_type": "code",
      "execution_count": null,
      "metadata": {},
      "outputs": [],
      "source": [
        "# Calculate mode for all the participant-related columns except 'participant_age'\n",
        "participant_age_group_mode = mode(extract_values(gun_violence_df['participant_age_group']))\n",
        "participant_gender_mode = mode(extract_values(gun_violence_df['participant_gender']))\n",
        "participant_type_mode = mode(extract_values(gun_violence_df['participant_type']))\n",
        "participant_status_mode = mode(extract_values(gun_violence_df['participant_status']))\n",
        "print(\"Moda de 'participant_age_group':\", participant_age_group_mode)\n",
        "print(\"Moda de 'participant_gender':\", participant_gender_mode)\n",
        "print(\"Moda de 'participant_type':\", participant_type_mode)\n",
        "print(\"Moda de 'participant_status':\", participant_status_mode)\n",
        "\n",
        "from statistics import mean\n",
        "# Calculate mean for 'participant_age'\n",
        "participant_ages = extract_values(gun_violence_df['participant_age'])\n",
        "participant_ages = [int(age) for age in participant_ages]\n",
        "participant_age_mean = mean(participant_ages)\n",
        "participant_age_mean = round(participant_age_mean, 0)\n",
        "print(\"Media redondeada de 'participant_age':\", participant_age_mean)"
      ]
    },
    {
      "cell_type": "code",
      "execution_count": null,
      "metadata": {},
      "outputs": [],
      "source": [
        "# Impute values for null values in participant-related columns\n",
        "gun_violence_df['participant_age_group'].fillna(format_values([participant_age_group_mode]), inplace=True)\n",
        "gun_violence_df['participant_gender'].fillna(format_values([participant_gender_mode]), inplace=True)\n",
        "gun_violence_df['participant_type'].fillna(format_values([participant_type_mode]), inplace=True)\n",
        "gun_violence_df['participant_status'].fillna(format_values([participant_status_mode]), inplace=True)\n",
        "gun_violence_df['participant_age'].fillna(format_values([int(participant_age_mean)]), inplace=True)"
      ]
    },
    {
      "cell_type": "markdown",
      "metadata": {},
      "source": [
        "La columna `notes` consiste de anotaciones con información adicional del incidente en formato de texto. Por ello, la mayoría de sus valores son únicos."
      ]
    },
    {
      "cell_type": "code",
      "execution_count": null,
      "metadata": {},
      "outputs": [],
      "source": [
        "# Show amount and proportion of unique values for 'notes' column\n",
        "notes_unique_values = gun_violence_df['notes'].unique()\n",
        "print(\"Cantidad de valores únicos en 'notes':\", len(notes_unique_values))\n",
        "print(\"Proporción de valores únicos en 'notes':\", len(notes_unique_values) / gun_violence_df.shape[0])"
      ]
    },
    {
      "cell_type": "markdown",
      "metadata": {},
      "source": [
        "Además, la información más relevante de estas notas (número de heridos, de muertos...) ya está incluida en otras variables del registro. Por ello, se ha decidido introducir un valor `No Notes` con el fin de no introducir ruido en la variable mediante otros métodos."
      ]
    },
    {
      "cell_type": "code",
      "execution_count": null,
      "metadata": {},
      "outputs": [],
      "source": [
        "gun_violence_df['notes'].fillna('No Notes', inplace=True)"
      ]
    },
    {
      "cell_type": "markdown",
      "metadata": {},
      "source": [
        "Las columnas `congressional_district`, `state_house_district`, `state_senate_district` son códigos de distrito dentro de cada estado. Por tanto, aunque dos registros tengan el mismo código de distrito para el congreso (por ejemplo), si están en distintos estados tienen significados totalmente distintos.\n",
        "\n",
        "Por esta razón, hemos decidido reemplazar los valores nulos de estas columnas por la moda de cada una de ellas dentro del estado correspondiente al registro."
      ]
    },
    {
      "cell_type": "code",
      "execution_count": null,
      "metadata": {},
      "outputs": [],
      "source": [
        "# Fill null values in `congressional_district`, `state_house_district`, `state_senate_district` with the mode for the corresponding state\n",
        "states = gun_violence_df['state'].unique()\n",
        "state_congressional_district_mode = {}\n",
        "state_house_district_mode = {}\n",
        "state_senate_district_mode = {}\n",
        "for state in states:\n",
        "    state_congressional_district_mode[state] = mode(gun_violence_df[gun_violence_df['state'] == state]['congressional_district'])\n",
        "    state_house_district_mode[state] = mode(gun_violence_df[gun_violence_df['state'] == state]['state_house_district'])\n",
        "    state_senate_district_mode[state] = mode(gun_violence_df[gun_violence_df['state'] == state]['state_senate_district'])\n",
        "\n",
        "# Print modes for Alabama as an example\n",
        "print(\"Moda de 'congressional_district' para 'Alabama':\", state_congressional_district_mode['Alabama'])\n",
        "print(\"Moda de 'state_house_district' para 'Alabama':\", state_house_district_mode['Alabama'])\n",
        "print(\"Moda de 'state_senate_district' para 'Alabama':\", state_senate_district_mode['Alabama'])\n"
      ]
    },
    {
      "cell_type": "code",
      "execution_count": null,
      "metadata": {},
      "outputs": [],
      "source": [
        "gun_violence_df['congressional_district'].fillna(gun_violence_df['state'].map(state_congressional_district_mode), inplace=True)\n",
        "gun_violence_df['state_house_district'].fillna(gun_violence_df['state'].map(state_house_district_mode), inplace=True)\n",
        "gun_violence_df['state_senate_district'].fillna(gun_violence_df['state'].map(state_senate_district_mode), inplace=True)"
      ]
    },
    {
      "cell_type": "markdown",
      "metadata": {},
      "source": [
        "Aun después de esto, hay algunos estados que cuyas columnas `state_house_district` y `state_senate_district` son todas nulas, por lo que siguen teniendo valores nulos.\n",
        "\n",
        "Para estas variables, introduciremos un valor `-1` que indicará que es desconocido."
      ]
    },
    {
      "cell_type": "code",
      "execution_count": null,
      "metadata": {},
      "outputs": [],
      "source": [
        "gun_violence_df['state_house_district'].fillna(-1, inplace=True)\n",
        "gun_violence_df['state_senate_district'].fillna(-1, inplace=True)"
      ]
    },
    {
      "cell_type": "markdown",
      "metadata": {},
      "source": [
        "Las columnas `longitude` y `latitude` son las coordenadas del accidente. Para solventar los valores faltantes, utilizaremos la media para el estado que corresponda."
      ]
    },
    {
      "cell_type": "code",
      "execution_count": null,
      "metadata": {},
      "outputs": [],
      "source": [
        "# Fill null values in `latitude` and `longitude` with the mean for the corresponding state\n",
        "state_latitude_mean = {}\n",
        "state_longitude_mean = {}\n",
        "for state in states:\n",
        "    state_latitude_mean[state] = gun_violence_df[gun_violence_df['state'] == state]['latitude'].mean()\n",
        "    state_longitude_mean[state] = gun_violence_df[gun_violence_df['state'] == state]['longitude'].mean()\n",
        "\n",
        "# Print means for Alabama as an example\n",
        "print(\"Media de 'latitude' para 'Alabama':\", state_latitude_mean['Alabama'])\n",
        "print(\"Media de 'longitude' para 'Alabama':\", state_longitude_mean['Alabama'])"
      ]
    },
    {
      "cell_type": "code",
      "execution_count": null,
      "metadata": {},
      "outputs": [],
      "source": [
        "gun_violence_df['latitude'].fillna(gun_violence_df['state'].map(state_latitude_mean), inplace=True)\n",
        "gun_violence_df['longitude'].fillna(gun_violence_df['state'].map(state_longitude_mean), inplace=True)"
      ]
    },
    {
      "cell_type": "markdown",
      "metadata": {},
      "source": [
        "La variable `address` es una variable referente a la ubicación demasiado concreta, por lo que la gran mayoría de sus valores son únicos."
      ]
    },
    {
      "cell_type": "code",
      "execution_count": null,
      "metadata": {},
      "outputs": [],
      "source": [
        "address_unique_values = gun_violence_df['address'].unique()\n",
        "print(\"Cantidad de valores únicos en 'address':\", len(address_unique_values))\n",
        "print(\"Proporción de valores únicos en 'address':\", len(address_unique_values) / gun_violence_df.shape[0])"
      ]
    },
    {
      "cell_type": "markdown",
      "metadata": {},
      "source": [
        "Por tanto, ya que ni la media ni la moda tienen sentido en este caso, hemos escogido utilizar un valor `Unknown` de nuevo."
      ]
    },
    {
      "cell_type": "code",
      "execution_count": null,
      "metadata": {},
      "outputs": [],
      "source": [
        "gun_violence_df['address'].fillna('Unknown', inplace=True)"
      ]
    },
    {
      "cell_type": "code",
      "execution_count": null,
      "metadata": {},
      "outputs": [],
      "source": [
        "source_url_unique_values = gun_violence_df['source_url'].unique()\n",
        "print(\"Cantidad de valores únicos en 'source_url':\", len(source_url_unique_values))\n",
        "print(\"Proporción de valores únicos en 'source_url':\", len(source_url_unique_values) / gun_violence_df.shape[0])\n",
        "\n",
        "sources_unique_values = gun_violence_df['sources'].unique()\n",
        "print(\"Cantidad de valores únicos en 'sources':\", len(sources_unique_values))\n",
        "print(\"Proporción de valores únicos en 'sources':\", len(sources_unique_values) / gun_violence_df.shape[0])"
      ]
    },
    {
      "cell_type": "markdown",
      "metadata": {},
      "source": [
        "Por tanto, aplicaremos la misma técnica: la introducción de un valor `Unknown`."
      ]
    },
    {
      "cell_type": "markdown",
      "metadata": {},
      "source": [
        "Para las variables `url_source` y `sources` tenemos también una gran cantidad de valors únicos por su significado."
      ]
    },
    {
      "cell_type": "code",
      "execution_count": null,
      "metadata": {},
      "outputs": [],
      "source": [
        "gun_violence_df['source_url'].fillna('Unknown', inplace=True)\n",
        "gun_violence_df['sources'].fillna('Unknown', inplace=True)"
      ]
    },
    {
      "cell_type": "markdown",
      "metadata": {},
      "source": [
        "Por último, la variable `incident_characteristics` presenta el mismo formato previamente mencionado, común a muchas otras. Por ello, sustituiremos los valores nulos con la moda, respetando de nuevo el formato establecido."
      ]
    },
    {
      "cell_type": "code",
      "execution_count": null,
      "metadata": {},
      "outputs": [],
      "source": [
        "incident_characteristics_mode = mode(extract_values(gun_violence_df['incident_characteristics']))\n",
        "print(\"Moda de 'incident_characteristics':\", incident_characteristics_mode)"
      ]
    },
    {
      "cell_type": "code",
      "execution_count": null,
      "metadata": {},
      "outputs": [],
      "source": [
        "gun_violence_df['incident_characteristics'].fillna(format_values([incident_characteristics_mode]), inplace=True)"
      ]
    },
    {
      "cell_type": "markdown",
      "metadata": {},
      "source": [
        "Finalmente, conseguimos no tener valores nulos en el conjunto de datos al completo."
      ]
    },
    {
      "cell_type": "code",
      "execution_count": null,
      "metadata": {},
      "outputs": [],
      "source": [
        "gun_violence_df.isnull().sum()"
      ]
    },
    {
      "cell_type": "markdown",
      "metadata": {},
      "source": [
        "### Tratamiento de outliers"
      ]
    },
    {
      "cell_type": "markdown",
      "metadata": {},
      "source": [
        "A continuación, trataremos los valores extremos o _outliers_ en las columnas no categóricas."
      ]
    },
    {
      "cell_type": "code",
      "execution_count": null,
      "metadata": {},
      "outputs": [],
      "source": [
        "numerical_columns = gun_violence_df.select_dtypes(include=['int64', 'float64']).columns\n",
        "numerical_columns"
      ]
    },
    {
      "cell_type": "markdown",
      "metadata": {},
      "source": [
        "De las columnas de tipo numérico, `incident_id` es un identificador único. Las variables `congressional_district`, `state_house_district` y `state_senate_district`, a pesar de ser numéricas _a priori_, realmente representan una variable categórica. Por ello, no entrarán en el cálculo de valores extremos.\n",
        "\n",
        "Además, las variables `latitude` y `longitude` son datos espaciales que, al tratar el conjunto de datos la totalidad de los Estados Unidos, nos encontramos con un contexto geográfico muy amplio. Por ello, es natural encontrar latitudes y longitudes extremas (por ejemplo, las del estado de Alaska), y modificarlas podría distorsionar la realidad.\n",
        "\n",
        "Además, la variable `participant_age` es también una variable numérica, aunque se encuentra en el formato típico de estas variables en nuestro conjunto de datos. Por ello, extraeremos los valores individuales de cada participante.\n",
        "\n",
        "Por tanto, se tratarán los _outliers_ de las variables `n_killed`, `n_injured`, `n_guns_involved` y `participant_age`."
      ]
    },
    {
      "cell_type": "code",
      "execution_count": null,
      "metadata": {},
      "outputs": [],
      "source": [
        "# Extract participant ages\n",
        "participant_ages = extract_values(gun_violence_df['participant_age'])\n",
        "participant_ages = [int(age) for age in participant_ages]"
      ]
    },
    {
      "cell_type": "markdown",
      "metadata": {},
      "source": [
        "Primero, visualizaremos los _outliers_."
      ]
    },
    {
      "cell_type": "code",
      "execution_count": null,
      "metadata": {},
      "outputs": [],
      "source": [
        "%matplotlib inline\n",
        "import matplotlib.pyplot as plt\n",
        "import seaborn as sns\n",
        "import math\n",
        " \n",
        "# Identify columns to plot\n",
        "numerical_columns = ['n_killed', 'n_injured', 'n_guns_involved']\n",
        "numerical_data = {\n",
        "    'n_killed': gun_violence_df['n_killed'],\n",
        "    'n_injured': gun_violence_df['n_injured'],\n",
        "    'n_guns_involved': gun_violence_df['n_guns_involved'],\n",
        "    'participant_age': participant_ages\n",
        "}\n",
        "\n",
        "# Plot boxplot for numerical_data\n",
        "fig, axes = plt.subplots(math.ceil(len(numerical_data) / 2), 2, figsize=(15, 15))\n",
        "axes = axes.flatten()\n",
        "\n",
        "for ax, (col, data) in zip(axes, numerical_data.items()):\n",
        "    sns.boxplot(data, ax=ax)\n",
        "    ax.set_title(col)\n",
        "\n",
        "fig.tight_layout()"
      ]
    },
    {
      "cell_type": "markdown",
      "metadata": {},
      "source": [
        "Los _boxplots_ nos muestran los datos que están fuera del 50% medio como puntos. Gracias a esta visualización, podemos ver que existen valores claramente erróneos, como edades de más de 100 años.\n",
        "\n",
        "Ahora, vamos a calcular los _outliers_ como los valores que se alejan 3 o más desviaciones estándar de la media (usando el método estadístico de _z-score_)."
      ]
    },
    {
      "cell_type": "code",
      "execution_count": null,
      "metadata": {},
      "outputs": [],
      "source": [
        "import numpy as np \n",
        "\n",
        "outliers = {\n",
        "    'n_killed': [],\n",
        "    'n_injured': [],\n",
        "    'n_guns_involved': [],\n",
        "    'participant_age': []\n",
        "}\n",
        "# Calculate outliers for numerical_data as values that are 3 standard deviations away from the mean\n",
        "for col, data in numerical_data.items():\n",
        "    data = np.array(data)\n",
        "    mean = np.mean(data)\n",
        "    std = np.std(data)\n",
        "    \n",
        "    threshold = 3\n",
        "    col_outliers = []\n",
        "    for x in data:\n",
        "        z_score = (x - mean) / std\n",
        "        if abs(z_score) > threshold:\n",
        "            col_outliers.append(x)\n",
        "    \n",
        "    outliers[col] = col_outliers\n",
        "    \n",
        "    print(\"Columna: \", col)\n",
        "    print(\"Media: \", mean)\n",
        "    print(\"Desviación estándar: \", std)\n",
        "    print(\"Número de outliers: \", len(col_outliers))\n",
        "    print(\"Proporción respecto al número de filas: \", len(col_outliers) / gun_violence_df.shape[0])\n",
        "    print(\"Outlier mínimo: \", min(col_outliers))\n",
        "    print(\"Outlier máximo: \", max(col_outliers), \"\\n\")"
      ]
    },
    {
      "cell_type": "code",
      "execution_count": null,
      "metadata": {},
      "outputs": [],
      "source": [
        "# Remove outliers from gun_violence_df\n",
        "for col in numerical_columns:\n",
        "    gun_violence_df = gun_violence_df[~gun_violence_df[col].isin(outliers[col])]\n",
        "\n",
        "outliers[\"participant_age\"] = [str(age) for age in outliers[\"participant_age\"]]\n",
        "substrings_to_remove = \"|\".join(outliers[\"participant_age\"])\n",
        "gun_violence_df = gun_violence_df[~gun_violence_df['participant_age'].str.contains(substrings_to_remove)]"
      ]
    },
    {
      "cell_type": "code",
      "execution_count": null,
      "metadata": {},
      "outputs": [],
      "source": [
        "participant_ages = extract_values(gun_violence_df['participant_age'])\n",
        "participant_ages = [int(age) for age in participant_ages]\n",
        "\n",
        "numerical_data = {\n",
        "    'n_killed': gun_violence_df['n_killed'],\n",
        "    'n_injured': gun_violence_df['n_injured'],\n",
        "    'n_guns_involved': gun_violence_df['n_guns_involved'],\n",
        "    'participant_age': participant_ages\n",
        "}\n",
        "\n",
        "# Plot boxplot for numerical_data without outliers\n",
        "fig, axes = plt.subplots(math.ceil(len(numerical_data) / 2), 2, figsize=(15, 15))\n",
        "axes = axes.flatten()\n",
        "\n",
        "for ax, (col, data) in zip(axes, numerical_data.items()):\n",
        "    data = np.array(data)\n",
        "    sns.boxplot(data, ax=ax)\n",
        "    ax.set_title(col)"
      ]
    },
    {
      "cell_type": "markdown",
      "metadata": {},
      "source": [
        "Podemos ver que en los nuevos _boxplots_ siguen existiendo _outliers_. Esto es porque utiliza el método del IQR, mientras que nosotros hemos utilizado el método del _z-score_, por lo que son distintos. Sin embargo, esto nos muestra que hemos reducido considerablemente el número de valores extremos."
      ]
    },
    {
      "cell_type": "markdown",
      "metadata": {},
      "source": [
        "### Profiling post-limpieza"
      ]
    },
    {
      "cell_type": "markdown",
      "metadata": {},
      "source": [
        "De nuevo, volvemos hacer uso del profiling para ver un resumen de nuestros datos tras la limpieza."
      ]
    },
    {
      "cell_type": "code",
      "execution_count": null,
      "metadata": {},
      "outputs": [],
      "source": [
        "from ydata_profiling import ProfileReport\n",
        "profile = ProfileReport(gun_violence_df, title='Gun Violence Incidents', html={'style':{'full_width':True}})\n",
        "profile.to_notebook_iframe()"
      ]
    },
    {
      "cell_type": "code",
      "execution_count": null,
      "metadata": {},
      "outputs": [],
      "source": [
        "import os\n",
        "os.makedirs('../reports/descriptive_analysis', exist_ok=True)\n",
        "profile.to_file(output_file='../reports/descriptive_analysis/gun_violence_incidents_postcleaning.html')"
      ]
    },
    {
      "cell_type": "markdown",
      "metadata": {},
      "source": [
        "## Integración"
      ]
    },
    {
      "cell_type": "markdown",
      "metadata": {},
      "source": [
        "Ahora, procederemos a resolver los problemas de representación y codificación que se presenten en el conjunto de datos, de cara a seguir un formato común con las demás fuentes."
      ]
    },
    {
      "cell_type": "markdown",
      "metadata": {},
      "source": [
        "Las variables que pueden presentarnos problemas de formato son:\n",
        "\n",
        "- La fecha, por ser esta una variable en la que puede haber diferencias de formato dependiendo de la fuente. Además, dependiendo de la hipótesis tendremos una granularidad de día o de año.\n",
        "- `gun_type`, `gun_stolen` y las variables referentes a los participantes (`participant_age`, `participant_gender`...), por tener un formato propio al conjunto de datos."
      ]
    },
    {
      "cell_type": "markdown",
      "metadata": {},
      "source": [
        "Para las segundas, hemos decidido representarlas como una lista, ya que Pandas lo permite."
      ]
    },
    {
      "cell_type": "code",
      "execution_count": null,
      "metadata": {},
      "outputs": [],
      "source": [
        "# Function to extract individual values from the given format, and return them as a new column with lists\n",
        "def extract_values_to_lists(column):\n",
        "    new_column = {column.name: []}\n",
        "    for row in column:\n",
        "        new_row = []\n",
        "        if pd.isnull(row):\n",
        "            continue\n",
        "        # Remove '||' and '|' separators\n",
        "        no_bars = list(filter(None, row.split('|')))\n",
        "        for item in no_bars:\n",
        "            if ':' in item:\n",
        "                # Remove '::' and ':' separators\n",
        "                no_separator = list(filter(None, item.split(':')))\n",
        "                if len(no_separator) == 1:\n",
        "                    print(\"Empty value found in column\", column.name)\n",
        "                    new_row.append('Unknown')\n",
        "                    continue\n",
        "                # participant_age column has integer values\n",
        "                if column.name == 'participant_age':\n",
        "                    new_row.append(int(no_separator[1]))\n",
        "                else:\n",
        "                    new_row.append(no_separator[1])\n",
        "        new_column[column.name].append(new_row)\n",
        "        \n",
        "    return pd.DataFrame.from_dict(new_column)\n",
        "\n",
        "columns_to_format = ['gun_stolen', 'gun_type', 'participant_age', 'participant_age_group', 'participant_gender', 'participant_name', 'participant_relationship', 'participant_status', 'participant_type']\n",
        "\n",
        "for col in columns_to_format:\n",
        "    gun_violence_df[col] = extract_values_to_lists(gun_violence_df[col])[col]"
      ]
    },
    {
      "cell_type": "code",
      "execution_count": null,
      "metadata": {},
      "outputs": [],
      "source": [
        "gun_violence_df['date'].head()"
      ]
    },
    {
      "cell_type": "markdown",
      "metadata": {},
      "source": [
        "La fecha sigue el formato ISO 8601 extendido, por lo que la dejaremos así. Sin embargo, dos de nuestras hipótesis tienen una granularidad de día, y las otras dos de año. Por ello, en la tarjeta de datos de las primeras se mantendrán así, mientras que en las otras dos las separaremos en año, mes y día. Esto lo haremos en la etapa de transformación, al crear las tarjetas de datos."
      ]
    },
    {
      "cell_type": "markdown",
      "metadata": {},
      "source": [
        "# Pobreza"
      ]
    },
    {
      "cell_type": "markdown",
      "metadata": {},
      "source": [
        "## Análisis descriptivo"
      ]
    },
    {
      "cell_type": "code",
      "execution_count": null,
      "metadata": {},
      "outputs": [],
      "source": [
        "# 0. load data in DataFrames\n",
        "import pandas as pd\n",
        "poverty_df = pd.read_csv('../data/raw/poverty_data.csv')"
      ]
    },
    {
      "cell_type": "markdown",
      "metadata": {},
      "source": [
        "Pequeña muestra de los datos"
      ]
    },
    {
      "cell_type": "code",
      "execution_count": null,
      "metadata": {},
      "outputs": [],
      "source": [
        "poverty_df.head()"
      ]
    },
    {
      "cell_type": "markdown",
      "metadata": {},
      "source": [
        "Forma de los datos"
      ]
    },
    {
      "cell_type": "code",
      "execution_count": null,
      "metadata": {},
      "outputs": [],
      "source": [
        "poverty_df.shape"
      ]
    },
    {
      "cell_type": "markdown",
      "metadata": {},
      "source": [
        "Variables y sus tipos"
      ]
    },
    {
      "cell_type": "code",
      "execution_count": null,
      "metadata": {},
      "outputs": [],
      "source": [
        "poverty_df.dtypes"
      ]
    },
    {
      "cell_type": "markdown",
      "metadata": {},
      "source": [
        "Resumen de información de las variables"
      ]
    },
    {
      "cell_type": "code",
      "execution_count": null,
      "metadata": {},
      "outputs": [],
      "source": [
        "poverty_df.info()"
      ]
    },
    {
      "cell_type": "markdown",
      "metadata": {},
      "source": [
        "Descripción estadística de los datos"
      ]
    },
    {
      "cell_type": "code",
      "execution_count": null,
      "metadata": {},
      "outputs": [],
      "source": [
        "poverty_df.describe()"
      ]
    },
    {
      "cell_type": "markdown",
      "metadata": {},
      "source": [
        "Finalmente, hacemos uso de la herramienta Pandas Profiling para dar un resumen de nuestro dataset."
      ]
    },
    {
      "cell_type": "code",
      "execution_count": null,
      "metadata": {},
      "outputs": [],
      "source": [
        "from ydata_profiling import ProfileReport\n",
        "profile = ProfileReport(poverty_df, title='Poverty Data', html={'style':{'full_width':True}})\n",
        "profile.to_notebook_iframe()"
      ]
    },
    {
      "cell_type": "code",
      "execution_count": null,
      "metadata": {},
      "outputs": [],
      "source": [
        "import os\n",
        "os.makedirs('../reports/descriptive_analysis', exist_ok=True)\n",
        "profile.to_file(output_file='../reports/descriptive_analysis/poverty_incidents_precleaning.html')"
      ]
    },
    {
      "cell_type": "markdown",
      "metadata": {},
      "source": [
        "## Limpieza"
      ]
    },
    {
      "cell_type": "markdown",
      "metadata": {},
      "source": [
        "### Tratamiento de los valores perdidos"
      ]
    },
    {
      "cell_type": "markdown",
      "metadata": {},
      "source": [
        "Primero, veremos en qué columnas existen valores nulos y cuántos de ellos hay."
      ]
    },
    {
      "cell_type": "code",
      "execution_count": null,
      "metadata": {},
      "outputs": [],
      "source": [
        "poverty_df.isnull().sum()"
      ]
    },
    {
      "cell_type": "markdown",
      "metadata": {},
      "source": [
        "Por tanto, las columnas con valores nulos son las siguientes:"
      ]
    },
    {
      "cell_type": "code",
      "execution_count": null,
      "metadata": {},
      "outputs": [],
      "source": [
        "null_columns = poverty_df.columns[poverty_df.isnull().any()]\n",
        "null_columns"
      ]
    },
    {
      "cell_type": "markdown",
      "metadata": {},
      "source": [
        "Al igual que en el anterior conjunto de datos, imputaremos la media para los valores nulos, por ser una variable numérica. Además, al ser datos demográficos que dependen del estado, utilizaremos la media del estado correspondiente al registro."
      ]
    },
    {
      "cell_type": "code",
      "execution_count": null,
      "metadata": {},
      "outputs": [],
      "source": [
        "# Fill missing values with the mean value of the column for the corresponding state\n",
        "for col in null_columns:\n",
        "    poverty_df[col] = poverty_df.groupby('state')[col].transform(lambda x: x.fillna(x.mean()))"
      ]
    },
    {
      "cell_type": "markdown",
      "metadata": {},
      "source": [
        "Finalmente, conseguimos no tener valores nulos en el conjunto de datos al completo."
      ]
    },
    {
      "cell_type": "code",
      "execution_count": null,
      "metadata": {},
      "outputs": [],
      "source": [
        "poverty_df.isnull().sum()"
      ]
    },
    {
      "cell_type": "markdown",
      "metadata": {},
      "source": [
        "### Tratamiento de outliers"
      ]
    },
    {
      "cell_type": "markdown",
      "metadata": {},
      "source": [
        "A continuación, trataremos los valores extremos o _outliers_ en las columnas no categóricas."
      ]
    },
    {
      "cell_type": "code",
      "execution_count": null,
      "metadata": {},
      "outputs": [],
      "source": [
        "numerical_columns = poverty_df.select_dtypes(include=['int64', 'float64']).columns\n",
        "numerical_columns"
      ]
    },
    {
      "cell_type": "markdown",
      "metadata": {},
      "source": [
        "Descartaremos la variable `year` y trataremos los _outliers_ de las demás."
      ]
    },
    {
      "cell_type": "markdown",
      "metadata": {},
      "source": [
        "Primero, visualizaremos los _outliers_."
      ]
    },
    {
      "cell_type": "code",
      "execution_count": null,
      "metadata": {},
      "outputs": [],
      "source": [
        "%matplotlib inline\n",
        "import matplotlib.pyplot as plt\n",
        "import seaborn as sns\n",
        "import math\n",
        " \n",
        "numerical_columns = numerical_columns.drop('year')\n",
        "# Plot boxplots for numerical columns\n",
        "fig, ax = plt.subplots(math.ceil(len(numerical_columns)/3), 3, figsize=(15, 15))\n",
        "for i, col in enumerate(numerical_columns):\n",
        "    sns.boxplot(y=col, data=poverty_df, ax=ax[math.floor(i/3), i%3])\n",
        "plt.tight_layout()"
      ]
    },
    {
      "cell_type": "markdown",
      "metadata": {},
      "source": [
        "Los _boxplots_ nos muestran los datos que están fuera del 50% medio como puntos. Gracias a esta visualización, podemos ver que existen más outliers en las variables `population` y `in_poverty`. Esto es debido a que estas columnas son cantidades de habitantes, mientras que las otras son porcentajes. Esta diferencia de escalado hace que los valores extremos sean aún más extremos en estas.\n",
        "\n",
        "Ahora, vamos a calcular los _outliers_ como los valores que se alejan 3 o más desviaciones estándar de la media (usando el método estadístico de _z-score_)."
      ]
    },
    {
      "cell_type": "code",
      "execution_count": null,
      "metadata": {},
      "outputs": [],
      "source": [
        "import numpy as np \n",
        "\n",
        "# Calculate outliers for numerical_data as values that are 3 standard deviations away from the mean\n",
        "outliers = {}\n",
        "for col in numerical_columns:\n",
        "    mean = poverty_df[col].mean()\n",
        "    std = poverty_df[col].std()\n",
        "    outliers[col] = poverty_df[(poverty_df[col] < mean - 3*std) | (poverty_df[col] > mean + 3*std)][col].values\n",
        "\n",
        "    print(\"Columna: \", col)\n",
        "    print(\"Media: \", mean)\n",
        "    print(\"Desviación estándar: \", std)\n",
        "    print(\"Número de outliers: \", len(outliers[col]))\n",
        "    print(\"Proporción respecto al número de filas: \", len(outliers[col]) / poverty_df.shape[0])\n",
        "    if len(outliers[col]) > 0:\n",
        "        print(\"Outlier mínimo: \", min(outliers[col]))\n",
        "        print(\"Outlier máximo: \", max(outliers[col]), \"\\n\")\n",
        "    else:\n",
        "        print(\"\\n\")"
      ]
    },
    {
      "cell_type": "markdown",
      "metadata": {},
      "source": [
        "Ya que los valores porcentuales no presentan _outliers_, y la renta (mediana) sólo presenta un _outlier_, no eliminaremos ningún _outlier_."
      ]
    },
    {
      "cell_type": "markdown",
      "metadata": {},
      "source": [
        "### Profiling post-limpieza"
      ]
    },
    {
      "cell_type": "markdown",
      "metadata": {},
      "source": [
        "De nuevo, volvemos hacer uso del profiling para ver un resumen de nuestros datos tras la limpieza."
      ]
    },
    {
      "cell_type": "code",
      "execution_count": null,
      "metadata": {},
      "outputs": [],
      "source": [
        "from ydata_profiling import ProfileReport\n",
        "profile = ProfileReport(poverty_df, title='Poverty Data', html={'style':{'full_width':True}})\n",
        "profile.to_notebook_iframe()"
      ]
    },
    {
      "cell_type": "code",
      "execution_count": null,
      "metadata": {},
      "outputs": [],
      "source": [
        "import os\n",
        "os.makedirs('../reports/descriptive_analysis', exist_ok=True)\n",
        "profile.to_file(output_file='../reports/descriptive_analysis/poverty_incidents_postcleaning.html')"
      ]
    }
  ],
  "metadata": {
    "colab": {
      "provenance": []
    },
    "kernelspec": {
      "display_name": "Python 3",
      "name": "python3"
    },
    "language_info": {
      "codemirror_mode": {
        "name": "ipython",
        "version": 3
      },
      "file_extension": ".py",
      "mimetype": "text/x-python",
      "name": "python",
      "nbconvert_exporter": "python",
      "pygments_lexer": "ipython3",
      "version": "3.11.5"
    }
  },
  "nbformat": 4,
  "nbformat_minor": 0
}
